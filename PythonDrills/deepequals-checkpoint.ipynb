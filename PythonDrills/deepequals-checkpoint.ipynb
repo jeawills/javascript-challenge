{
 "cells": [
  {
   "cell_type": "markdown",
   "metadata": {},
   "source": [
    "# Deep Equals\n",
    "\n",
    "Write a function that determines if two lists of numbers are equal"
   ]
  },
  {
   "cell_type": "code",
   "execution_count": 3,
   "metadata": {},
   "outputs": [],
   "source": [
    "a = [1, 2, 3]\n",
    "b = [1, 2, 3]\n",
    "c = [1, 2, 3, 4]\n",
    "d = [3, 2, 1]\n",
    "e = [1, 1, 2, 3]"
   ]
  },
  {
   "cell_type": "code",
   "execution_count": 15,
   "metadata": {},
   "outputs": [
    {
     "name": "stdout",
     "output_type": "stream",
     "text": [
      "The first list is : [1, 2, 3]\n",
      "The second list is : [1, 2, 3]\n",
      "The third list is : [1, 2, 3, 4]\n",
      "The fourth list is : [1, 2, 3]\n",
      "The fifth list is : [1, 1, 2, 3]\n",
      "The first list is identical to the second and fourth\n"
     ]
    }
   ],
   "source": [
    "# printing lists \n",
    "print (\"The first list is : \" + str(a)) \n",
    "print (\"The second list is : \" + str(b)) \n",
    "print (\"The third list is : \" + str(c)) \n",
    "print (\"The fourth list is : \" + str(d))\n",
    "print (\"The fifth list is : \" + str(e)) \n",
    " \n",
    " \n",
    "# sorting both the lists \n",
    "a.sort()\n",
    "b.sort()\n",
    "c.sort()\n",
    "d.sort()\n",
    "e.sort()\n",
    "\n",
    "\n",
    "# using == to check if  \n",
    "# lists are equal \n",
    "if a == b == c == d == e: \n",
    "    print (\"All the lists are identical\") \n",
    "elif a == b == c: \n",
    "    print (\"The first list is identical to the second and third\")\n",
    "elif a == b == d: \n",
    "    print (\"The first list is identical to the second and fourth\")\n",
    "elif a == b == e: \n",
    "    print (\"The first list is identical to the second and fifth\")\n",
    "elif a == b: \n",
    "    print (\"The first list is identical to the second\")\n",
    "elif a == c: \n",
    "    print (\"The first list is identical to the third\") \n",
    "elif a == d: \n",
    "    print (\"The first list is identical to the fourth\")\n",
    "elif a == e: \n",
    "    print (\"The first list is identical to fifth\") "
   ]
  },
  {
   "cell_type": "code",
   "execution_count": 20,
   "metadata": {},
   "outputs": [
    {
     "name": "stdout",
     "output_type": "stream",
     "text": [
      "The first list is : [1, 2, 3]\n",
      "The second list is : [1, 2, 3]\n",
      "The first list is : [1, 2, 3, 4]\n",
      "The second list is : [3, 2, 1]\n",
      "The second list is : [1, 1, 2, 3]\n",
      "The First list is identical to second\n"
     ]
    }
   ],
   "source": [
    "# Python 3 code to demonstrate  \n",
    "# check if list are identical \n",
    "# using collections.Counter() \n",
    "import collections \n",
    "  \n",
    "# initializing lists  \n",
    "a = [1, 2, 3]\n",
    "b = [1, 2, 3]\n",
    "c = [1, 2, 3, 4]\n",
    "d = [3, 2, 1]\n",
    "e = [1, 1, 2, 3]\n",
    "  \n",
    "# printing lists \n",
    "print (\"The first list is : \" + str(a)) \n",
    "print (\"The second list is : \" + str(b))\n",
    "print (\"The first list is : \" + str(c)) \n",
    "print (\"The second list is : \" + str(d)) \n",
    "print (\"The second list is : \" + str(e)) \n",
    "  \n",
    "# using collections.Counter() to check if  \n",
    "# lists are equal \n",
    "if collections.Counter(a) == collections.Counter(b)== collections.Counter(c)== collections.Counter(d)== collections.Counter(e): \n",
    "    print (\"The lists are identical\") \n",
    "\n",
    "elif collections.Counter(a) == collections.Counter(b):\n",
    "    print (\"The First list is identical to second\") \n",
    "else : \n",
    "    print (\"The lists are not identical\") "
   ]
  },
  {
   "cell_type": "code",
   "execution_count": null,
   "metadata": {},
   "outputs": [],
   "source": []
  }
 ],
 "metadata": {
  "kernelspec": {
   "display_name": "Python 3",
   "language": "python",
   "name": "python3"
  },
  "language_info": {
   "codemirror_mode": {
    "name": "ipython",
    "version": 3
   },
   "file_extension": ".py",
   "mimetype": "text/x-python",
   "name": "python",
   "nbconvert_exporter": "python",
   "pygments_lexer": "ipython3",
   "version": "3.8.3"
  },
  "varInspector": {
   "cols": {
    "lenName": 16,
    "lenType": 16,
    "lenVar": 40
   },
   "kernels_config": {
    "python": {
     "delete_cmd_postfix": "",
     "delete_cmd_prefix": "del ",
     "library": "var_list.py",
     "varRefreshCmd": "print(var_dic_list())"
    },
    "r": {
     "delete_cmd_postfix": ") ",
     "delete_cmd_prefix": "rm(",
     "library": "var_list.r",
     "varRefreshCmd": "cat(var_dic_list()) "
    }
   },
   "types_to_exclude": [
    "module",
    "function",
    "builtin_function_or_method",
    "instance",
    "_Feature"
   ],
   "window_display": false
  }
 },
 "nbformat": 4,
 "nbformat_minor": 2
}
